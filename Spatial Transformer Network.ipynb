{
 "cells": [
  {
   "cell_type": "code",
   "execution_count": 1,
   "metadata": {
    "executionInfo": {
     "elapsed": 3237,
     "status": "ok",
     "timestamp": 1608050797824,
     "user": {
      "displayName": "Parth Dedhia",
      "photoUrl": "",
      "userId": "15098257602324158403"
     },
     "user_tz": -330
    },
    "id": "nzq9rJFWUhhe"
   },
   "outputs": [],
   "source": [
    "from sklearn.model_selection import train_test_split\n",
    "from matplotlib import pyplot as plt\n",
    "from scipy.io.matlab import loadmat\n",
    "import tensorflow as tf\n",
    "import numpy as np\n",
    "import datetime\n",
    "import os\n",
    "\n",
    "%load_ext tensorboard"
   ]
  },
  {
   "cell_type": "code",
   "execution_count": 2,
   "metadata": {
    "executionInfo": {
     "elapsed": 3232,
     "status": "ok",
     "timestamp": 1608050797825,
     "user": {
      "displayName": "Parth Dedhia",
      "photoUrl": "",
      "userId": "15098257602324158403"
     },
     "user_tz": -330
    },
    "id": "tk6aUI6nRCll"
   },
   "outputs": [],
   "source": [
    "tf.random.set_seed(9)"
   ]
  },
  {
   "cell_type": "code",
   "execution_count": 3,
   "metadata": {
    "colab": {
     "base_uri": "https://localhost:8080/"
    },
    "executionInfo": {
     "elapsed": 10676,
     "status": "ok",
     "timestamp": 1608050805273,
     "user": {
      "displayName": "Parth Dedhia",
      "photoUrl": "",
      "userId": "15098257602324158403"
     },
     "user_tz": -330
    },
    "id": "JFKCqGbRpn48",
    "outputId": "11271d79-726a-4c1b-9d7e-131892bf5eb2"
   },
   "outputs": [
    {
     "name": "stdout",
     "output_type": "stream",
     "text": [
      "--2020-12-15 16:46:37--  https://www.cs.toronto.edu/~tijmen/affNIST/32x/transformed/training_and_validation_batches.zip\n",
      "Resolving www.cs.toronto.edu (www.cs.toronto.edu)... 128.100.3.30\n",
      "Connecting to www.cs.toronto.edu (www.cs.toronto.edu)|128.100.3.30|:443... connected.\n",
      "HTTP request sent, awaiting response... 200 OK\n",
      "Length: 730609891 (697M) [application/zip]\n",
      "Saving to: ‘training_and_validation_batches.zip’\n",
      "\n",
      "training_and_valida 100%[===================>] 696.76M  83.0MB/s    in 7.3s    \n",
      "\n",
      "2020-12-15 16:46:44 (95.5 MB/s) - ‘training_and_validation_batches.zip’ saved [730609891/730609891]\n",
      "\n"
     ]
    }
   ],
   "source": [
    "!wget -c https://www.cs.toronto.edu/~tijmen/affNIST/32x/transformed/training_and_validation_batches.zip"
   ]
  },
  {
   "cell_type": "code",
   "execution_count": 4,
   "metadata": {
    "colab": {
     "base_uri": "https://localhost:8080/"
    },
    "executionInfo": {
     "elapsed": 78119,
     "status": "ok",
     "timestamp": 1608050872721,
     "user": {
      "displayName": "Parth Dedhia",
      "photoUrl": "",
      "userId": "15098257602324158403"
     },
     "user_tz": -330
    },
    "id": "vnI8jH2PppwN",
    "outputId": "895bf783-d11f-4534-e31c-8b5e6eac0adc"
   },
   "outputs": [
    {
     "name": "stdout",
     "output_type": "stream",
     "text": [
      "Archive:  training_and_validation_batches.zip\n",
      "   creating: training_and_validation_batches/\n",
      "  inflating: training_and_validation_batches/1.mat  \n",
      "  inflating: training_and_validation_batches/2.mat  \n",
      "  inflating: training_and_validation_batches/3.mat  \n",
      "  inflating: training_and_validation_batches/4.mat  \n",
      "  inflating: training_and_validation_batches/5.mat  \n",
      "  inflating: training_and_validation_batches/6.mat  \n",
      "  inflating: training_and_validation_batches/7.mat  \n",
      "  inflating: training_and_validation_batches/8.mat  \n",
      "  inflating: training_and_validation_batches/9.mat  \n",
      "  inflating: training_and_validation_batches/10.mat  \n",
      "  inflating: training_and_validation_batches/11.mat  \n",
      "  inflating: training_and_validation_batches/12.mat  \n",
      "  inflating: training_and_validation_batches/13.mat  \n",
      "  inflating: training_and_validation_batches/14.mat  \n",
      "  inflating: training_and_validation_batches/15.mat  \n",
      "  inflating: training_and_validation_batches/16.mat  \n",
      "  inflating: training_and_validation_batches/17.mat  \n",
      "  inflating: training_and_validation_batches/18.mat  \n",
      "  inflating: training_and_validation_batches/19.mat  \n",
      "  inflating: training_and_validation_batches/20.mat  \n",
      "  inflating: training_and_validation_batches/21.mat  \n",
      "  inflating: training_and_validation_batches/22.mat  \n",
      "  inflating: training_and_validation_batches/23.mat  \n",
      "  inflating: training_and_validation_batches/24.mat  \n",
      "  inflating: training_and_validation_batches/25.mat  \n",
      "  inflating: training_and_validation_batches/26.mat  \n",
      "  inflating: training_and_validation_batches/27.mat  \n",
      "  inflating: training_and_validation_batches/28.mat  \n",
      "  inflating: training_and_validation_batches/29.mat  \n",
      "  inflating: training_and_validation_batches/30.mat  \n",
      "  inflating: training_and_validation_batches/31.mat  \n",
      "  inflating: training_and_validation_batches/32.mat  \n"
     ]
    }
   ],
   "source": [
    "! unzip training_and_validation_batches.zip"
   ]
  },
  {
   "cell_type": "code",
   "execution_count": 5,
   "metadata": {
    "executionInfo": {
     "elapsed": 78115,
     "status": "ok",
     "timestamp": 1608050872722,
     "user": {
      "displayName": "Parth Dedhia",
      "photoUrl": "",
      "userId": "15098257602324158403"
     },
     "user_tz": -330
    },
    "id": "pMOyoEATUy5H"
   },
   "outputs": [],
   "source": [
    "batch_size = 256\n",
    "epochs = 100"
   ]
  },
  {
   "cell_type": "code",
   "execution_count": 6,
   "metadata": {
    "executionInfo": {
     "elapsed": 82368,
     "status": "ok",
     "timestamp": 1608050876981,
     "user": {
      "displayName": "Parth Dedhia",
      "photoUrl": "",
      "userId": "15098257602324158403"
     },
     "user_tz": -330
    },
    "id": "KUzuKHOZykwa"
   },
   "outputs": [],
   "source": [
    "image_path = 'training_and_validation_batches/1.mat'\n",
    "temp = loadmat(image_path)\n",
    "\n",
    "x = temp['affNISTdata']['image'][0][0].reshape(40, 40, 60000)\n",
    "x = np.moveaxis(x, -1, 0)\n",
    "x = np.expand_dims(x, axis=-1)\n",
    "x = x/255.0\n",
    "\n",
    "y = temp['affNISTdata']['label_int'][0][0]\n",
    "y = np.moveaxis(y, -1, 0)\n",
    "y = y.astype(np.int32)"
   ]
  },
  {
   "cell_type": "code",
   "execution_count": 7,
   "metadata": {
    "executionInfo": {
     "elapsed": 82366,
     "status": "ok",
     "timestamp": 1608050876984,
     "user": {
      "displayName": "Parth Dedhia",
      "photoUrl": "",
      "userId": "15098257602324158403"
     },
     "user_tz": -330
    },
    "id": "qQAadNcxpz18"
   },
   "outputs": [],
   "source": [
    "X_train, X_test, y_train, y_test = train_test_split(x, y, test_size=0.1, random_state=42)"
   ]
  },
  {
   "cell_type": "code",
   "execution_count": 8,
   "metadata": {
    "executionInfo": {
     "elapsed": 87791,
     "status": "ok",
     "timestamp": 1608050882413,
     "user": {
      "displayName": "Parth Dedhia",
      "photoUrl": "",
      "userId": "15098257602324158403"
     },
     "user_tz": -330
    },
    "id": "lxLJ1KO_02VB"
   },
   "outputs": [],
   "source": [
    "mnist_train_ds = tf.data.Dataset.from_tensor_slices((X_train, y_train))\n",
    "mnist_train_ds = mnist_train_ds.shuffle(5000).batch(batch_size)"
   ]
  },
  {
   "cell_type": "code",
   "execution_count": 9,
   "metadata": {
    "executionInfo": {
     "elapsed": 87791,
     "status": "ok",
     "timestamp": 1608050882416,
     "user": {
      "displayName": "Parth Dedhia",
      "photoUrl": "",
      "userId": "15098257602324158403"
     },
     "user_tz": -330
    },
    "id": "kDqeTCG7U4Gn"
   },
   "outputs": [],
   "source": [
    "class Localization(tf.keras.layers.Layer):\n",
    "    def __init__(self):\n",
    "        super(Localization, self).__init__()\n",
    "        self.pool1 = tf.keras.layers.MaxPool2D()\n",
    "        self.conv1 = tf.keras.layers.Conv2D(20, [5, 5], activation='relu')\n",
    "        self.pool2 = tf.keras.layers.MaxPool2D()\n",
    "        self.conv2 = tf.keras.layers.Conv2D(20, [5, 5], activation='relu')\n",
    "        self.flatten = tf.keras.layers.Flatten()\n",
    "        self.fc1 = tf.keras.layers.Dense(20, activation='relu')\n",
    "        self.fc2 = tf.keras.layers.Dense(6, activation=None, bias_initializer=tf.keras.initializers.constant([1.0, 0.0, 0.0, 0.0, 1.0, 0.0]), kernel_initializer='zeros')\n",
    "\n",
    "    def build(self, input_shape):\n",
    "        print(\"Building Localization Network with input shape:\", input_shape)\n",
    "\n",
    "    def compute_output_shape(self, input_shape):\n",
    "        return [None, 6]\n",
    "\n",
    "    def call(self, inputs):\n",
    "        x = self.conv1(inputs)\n",
    "        x = self.pool1(x)\n",
    "        x = self.conv2(x)\n",
    "        x = self.pool2(x)\n",
    "        x = self.flatten(x)\n",
    "        x = self.fc1(x)\n",
    "        theta = self.fc2(x)\n",
    "        theta = tf.keras.layers.Reshape((2, 3))(theta)\n",
    "        return theta"
   ]
  },
  {
   "cell_type": "code",
   "execution_count": 10,
   "metadata": {
    "executionInfo": {
     "elapsed": 87789,
     "status": "ok",
     "timestamp": 1608050882417,
     "user": {
      "displayName": "Parth Dedhia",
      "photoUrl": "",
      "userId": "15098257602324158403"
     },
     "user_tz": -330
    },
    "id": "vHLT9xb-XRwo"
   },
   "outputs": [],
   "source": [
    "class BilinearInterpolation(tf.keras.layers.Layer):\n",
    "    def __init__(self, height=40, width=40):\n",
    "        super(BilinearInterpolation, self).__init__()\n",
    "        self.height = height\n",
    "        self.width = width\n",
    "\n",
    "    def compute_output_shape(self, input_shape):\n",
    "        return [None, self.height, self.width, 1]\n",
    "\n",
    "    def get_config(self):\n",
    "        return {\n",
    "            'height': self.height,\n",
    "            'width': self.width,\n",
    "        }\n",
    "    \n",
    "    def build(self, input_shape):\n",
    "        print(\"Building Bilinear Interpolation Layer with input shape:\", input_shape)\n",
    "\n",
    "    def advance_indexing(self, inputs, x, y):\n",
    "        '''\n",
    "        Numpy like advance indexing is not supported in tensorflow, hence, this function is a hack around the same method\n",
    "        '''        \n",
    "        shape = tf.shape(inputs)\n",
    "        batch_size, _, _ = shape[0], shape[1], shape[2]\n",
    "        \n",
    "        batch_idx = tf.range(0, batch_size)\n",
    "        batch_idx = tf.reshape(batch_idx, (batch_size, 1, 1))\n",
    "        b = tf.tile(batch_idx, (1, self.height, self.width))\n",
    "        indices = tf.stack([b, y, x], 3)\n",
    "        return tf.gather_nd(inputs, indices)\n",
    "\n",
    "    def call(self, inputs):\n",
    "        images, theta = inputs\n",
    "        homogenous_coordinates = self.grid_generator(batch=tf.shape(images)[0])\n",
    "        return self.interpolate(images, homogenous_coordinates, theta)\n",
    "\n",
    "    def grid_generator(self, batch):\n",
    "        x = tf.linspace(-1, 1, self.width)\n",
    "        y = tf.linspace(-1, 1, self.height)\n",
    "            \n",
    "        xx, yy = tf.meshgrid(x, y)\n",
    "        xx = tf.reshape(xx, (-1,))\n",
    "        yy = tf.reshape(yy, (-1,))\n",
    "        homogenous_coordinates = tf.stack([xx, yy, tf.ones_like(xx)])\n",
    "        homogenous_coordinates = tf.expand_dims(homogenous_coordinates, axis=0)\n",
    "        homogenous_coordinates = tf.tile(homogenous_coordinates, [batch, 1, 1])\n",
    "        homogenous_coordinates = tf.cast(homogenous_coordinates, dtype=tf.float32)\n",
    "        return homogenous_coordinates\n",
    "    \n",
    "    def interpolate(self, images, homogenous_coordinates, theta):\n",
    "\n",
    "        with tf.name_scope(\"Transformation\"):\n",
    "            transformed = tf.matmul(theta, homogenous_coordinates)\n",
    "            transformed = tf.transpose(transformed, perm=[0, 2, 1])\n",
    "            transformed = tf.reshape(transformed, [-1, self.height, self.width, 2])\n",
    "                \n",
    "            x_transformed = transformed[:, :, :, 0]\n",
    "            y_transformed = transformed[:, :, :, 1]\n",
    "                \n",
    "            x = ((x_transformed + 1.) * tf.cast(self.width, dtype=tf.float32)) * 0.5\n",
    "            y = ((y_transformed + 1.) * tf.cast(self.height, dtype=tf.float32)) * 0.5\n",
    "\n",
    "        with tf.name_scope(\"VariableCasting\"):\n",
    "            x0 = tf.cast(tf.math.floor(x), dtype=tf.int32)\n",
    "            x1 = x0 + 1\n",
    "            y0 = tf.cast(tf.math.floor(y), dtype=tf.int32)\n",
    "            y1 = y0 + 1\n",
    "\n",
    "            x0 = tf.clip_by_value(x0, 0, self.width-1)\n",
    "            x1 = tf.clip_by_value(x1, 0, self.width-1)\n",
    "            y0 = tf.clip_by_value(y0, 0, self.height-1)\n",
    "            y1 = tf.clip_by_value(y1, 0, self.height-1)\n",
    "            x = tf.clip_by_value(x, 0, tf.cast(self.width, dtype=tf.float32)-1.0)\n",
    "            y = tf.clip_by_value(y, 0, tf.cast(self.height, dtype=tf.float32)-1)\n",
    "\n",
    "        with tf.name_scope(\"AdvanceIndexing\"):\n",
    "            Ia = self.advance_indexing(images, x0, y0)\n",
    "            Ib = self.advance_indexing(images, x0, y1)\n",
    "            Ic = self.advance_indexing(images, x1, y0)\n",
    "            Id = self.advance_indexing(images, x1, y1)\n",
    "\n",
    "        with tf.name_scope(\"Interpolation\"):\n",
    "            x0 = tf.cast(x0, dtype=tf.float32)\n",
    "            x1 = tf.cast(x1, dtype=tf.float32)\n",
    "            y0 = tf.cast(y0, dtype=tf.float32)\n",
    "            y1 = tf.cast(y1, dtype=tf.float32)\n",
    "                            \n",
    "            wa = (x1-x) * (y1-y)\n",
    "            wb = (x1-x) * (y-y0)\n",
    "            wc = (x-x0) * (y1-y)\n",
    "            wd = (x-x0) * (y-y0)\n",
    "\n",
    "            wa = tf.expand_dims(wa, axis=3)\n",
    "            wb = tf.expand_dims(wb, axis=3)\n",
    "            wc = tf.expand_dims(wc, axis=3)\n",
    "            wd = tf.expand_dims(wd, axis=3)\n",
    "                        \n",
    "        return tf.math.add_n([wa*Ia + wb*Ib + wc*Ic + wd*Id])"
   ]
  },
  {
   "cell_type": "code",
   "execution_count": 11,
   "metadata": {
    "executionInfo": {
     "elapsed": 87786,
     "status": "ok",
     "timestamp": 1608050882417,
     "user": {
      "displayName": "Parth Dedhia",
      "photoUrl": "",
      "userId": "15098257602324158403"
     },
     "user_tz": -330
    },
    "id": "KPoxdJY2fPBH"
   },
   "outputs": [],
   "source": [
    "bi = BilinearInterpolation()"
   ]
  },
  {
   "cell_type": "code",
   "execution_count": 12,
   "metadata": {
    "executionInfo": {
     "elapsed": 87783,
     "status": "ok",
     "timestamp": 1608050882418,
     "user": {
      "displayName": "Parth Dedhia",
      "photoUrl": "",
      "userId": "15098257602324158403"
     },
     "user_tz": -330
    },
    "id": "dVKbN4blnQ3V"
   },
   "outputs": [],
   "source": [
    "image = np.zeros((2, 40, 40, 1))\n",
    "image[0, 10:20, 10:20, :] = 1\n",
    "image[1, 20:30, 20:30, :] = 1\n",
    "\n",
    "# 45 degree rotation matrix\n",
    "theta = np.asarray([[np.cos(np.pi/4), -np.sin(np.pi/4), 0], [np.sin(np.pi/4), np.cos(np.pi/4),0]])"
   ]
  },
  {
   "cell_type": "code",
   "execution_count": 13,
   "metadata": {
    "colab": {
     "base_uri": "https://localhost:8080/"
    },
    "executionInfo": {
     "elapsed": 89378,
     "status": "ok",
     "timestamp": 1608050884016,
     "user": {
      "displayName": "Parth Dedhia",
      "photoUrl": "",
      "userId": "15098257602324158403"
     },
     "user_tz": -330
    },
    "id": "Si3PvpYQok7g",
    "outputId": "8e492b37-04c3-4139-c024-bd505e6eca51"
   },
   "outputs": [
    {
     "name": "stdout",
     "output_type": "stream",
     "text": [
      "WARNING:tensorflow:Layer bilinear_interpolation is casting an input tensor from dtype float64 to the layer's dtype of float32, which is new behavior in TensorFlow 2.  The layer has dtype float32 because its dtype defaults to floatx.\n",
      "\n",
      "If you intended to run this layer in float32, you can safely ignore this warning. If in doubt, this warning is likely only an issue if you are porting a TensorFlow 1.X model to TensorFlow 2.\n",
      "\n",
      "To change all layers to have dtype float64 by default, call `tf.keras.backend.set_floatx('float64')`. To change just this layer, pass dtype='float64' to the layer constructor. If you are the author of this layer, you can disable autocasting by passing autocast=False to the base Layer constructor.\n",
      "\n",
      "Building Bilinear Interpolation Layer with input shape: [TensorShape([2, 40, 40, 1]), TensorShape([2, 3])]\n"
     ]
    }
   ],
   "source": [
    "result = bi([image, theta])"
   ]
  },
  {
   "cell_type": "code",
   "execution_count": 14,
   "metadata": {
    "colab": {
     "base_uri": "https://localhost:8080/",
     "height": 285
    },
    "executionInfo": {
     "elapsed": 89922,
     "status": "ok",
     "timestamp": 1608050884565,
     "user": {
      "displayName": "Parth Dedhia",
      "photoUrl": "",
      "userId": "15098257602324158403"
     },
     "user_tz": -330
    },
    "id": "56q_hEEwoqzD",
    "outputId": "fb7e2b4f-12ba-4858-8799-2743d9a160e0"
   },
   "outputs": [
    {
     "data": {
      "text/plain": [
       "<matplotlib.image.AxesImage at 0x7f925020cf98>"
      ]
     },
     "execution_count": 14,
     "metadata": {
      "tags": []
     },
     "output_type": "execute_result"
    },
    {
     "data": {
      "image/png": "[encoded data removed]",
      "text/plain": [
       "<Figure size 432x288 with 4 Axes>"
      ]
     },
     "metadata": {
      "needs_background": "light",
      "tags": []
     },
     "output_type": "display_data"
    }
   ],
   "source": [
    "plt.subplot(2, 2, 1)\n",
    "plt.imshow(image[0, :, :, 0], cmap='gray')\n",
    "\n",
    "plt.subplot(2, 2, 2)\n",
    "plt.imshow(image[1, :, :, 0], cmap='gray')\n",
    "\n",
    "plt.subplot(2, 2, 3)\n",
    "plt.imshow(result[0, :, :, 0], cmap='gray')\n",
    "\n",
    "plt.subplot(2, 2, 4)\n",
    "plt.imshow(result[1, :, :, 0], cmap='gray')"
   ]
  },
  {
   "cell_type": "code",
   "execution_count": 15,
   "metadata": {
    "executionInfo": {
     "elapsed": 89918,
     "status": "ok",
     "timestamp": 1608050884566,
     "user": {
      "displayName": "Parth Dedhia",
      "photoUrl": "",
      "userId": "15098257602324158403"
     },
     "user_tz": -330
    },
    "id": "CK-GWfCDj0bS"
   },
   "outputs": [],
   "source": [
    "def get_model(input_shape):\n",
    "    image = tf.keras.layers.Input(shape=input_shape)\n",
    "    theta = Localization()(image)\n",
    "    x = BilinearInterpolation(height=input_shape[0], width=input_shape[1])([image, theta])\n",
    "    x = tf.keras.layers.Conv2D(64, [9, 9], activation='relu')(x)\n",
    "    x = tf.keras.layers.MaxPool2D()(x)\n",
    "    x = tf.keras.layers.Conv2D(64, [7, 7], activation='relu')(x)\n",
    "    x = tf.keras.layers.MaxPool2D()(x)\n",
    "    x = tf.keras.layers.Flatten()(x)\n",
    "    x = tf.keras.layers.Dense(64, activation='relu')(x)\n",
    "    x = tf.keras.layers.Dense(32, activation='relu')(x)\n",
    "    x = tf.keras.layers.Dense(10, activation='softmax')(x)\n",
    "\n",
    "    return tf.keras.models.Model(inputs=image, outputs=x)"
   ]
  },
  {
   "cell_type": "code",
   "execution_count": 16,
   "metadata": {
    "colab": {
     "base_uri": "https://localhost:8080/"
    },
    "executionInfo": {
     "elapsed": 90488,
     "status": "ok",
     "timestamp": 1608050885140,
     "user": {
      "displayName": "Parth Dedhia",
      "photoUrl": "",
      "userId": "15098257602324158403"
     },
     "user_tz": -330
    },
    "id": "AeK2ggXmkRQC",
    "outputId": "53603a5e-8399-47c5-baf4-63b615b4b438"
   },
   "outputs": [
    {
     "name": "stdout",
     "output_type": "stream",
     "text": [
      "Building Localization Network with input shape: (None, 40, 40, 1)\n",
      "Building Bilinear Interpolation Layer with input shape: [TensorShape([None, 40, 40, 1]), TensorShape([None, 2, 3])]\n"
     ]
    }
   ],
   "source": [
    "model = get_model((40, 40, 1))"
   ]
  },
  {
   "cell_type": "code",
   "execution_count": 17,
   "metadata": {
    "colab": {
     "base_uri": "https://localhost:8080/"
    },
    "executionInfo": {
     "elapsed": 90487,
     "status": "ok",
     "timestamp": 1608050885143,
     "user": {
      "displayName": "Parth Dedhia",
      "photoUrl": "",
      "userId": "15098257602324158403"
     },
     "user_tz": -330
    },
    "id": "xPjxmY6zmGBk",
    "outputId": "a7de3248-d0e2-4603-fc6e-dec303b78a68"
   },
   "outputs": [
    {
     "name": "stdout",
     "output_type": "stream",
     "text": [
      "Model: \"functional_1\"\n",
      "__________________________________________________________________________________________________\n",
      "Layer (type)                    Output Shape         Param #     Connected to                     \n",
      "==================================================================================================\n",
      "input_1 (InputLayer)            [(None, 40, 40, 1)]  0                                            \n",
      "__________________________________________________________________________________________________\n",
      "localization (Localization)     (None, 2, 3)         30286       input_1[0][0]                    \n",
      "__________________________________________________________________________________________________\n",
      "bilinear_interpolation_1 (Bilin (None, 40, 40, 1)    0           input_1[0][0]                    \n",
      "                                                                 localization[0][0]               \n",
      "__________________________________________________________________________________________________\n",
      "conv2d_2 (Conv2D)               (None, 32, 32, 64)   5248        bilinear_interpolation_1[0][0]   \n",
      "__________________________________________________________________________________________________\n",
      "max_pooling2d_2 (MaxPooling2D)  (None, 16, 16, 64)   0           conv2d_2[0][0]                   \n",
      "__________________________________________________________________________________________________\n",
      "conv2d_3 (Conv2D)               (None, 10, 10, 64)   200768      max_pooling2d_2[0][0]            \n",
      "__________________________________________________________________________________________________\n",
      "max_pooling2d_3 (MaxPooling2D)  (None, 5, 5, 64)     0           conv2d_3[0][0]                   \n",
      "__________________________________________________________________________________________________\n",
      "flatten_1 (Flatten)             (None, 1600)         0           max_pooling2d_3[0][0]            \n",
      "__________________________________________________________________________________________________\n",
      "dense_2 (Dense)                 (None, 64)           102464      flatten_1[0][0]                  \n",
      "__________________________________________________________________________________________________\n",
      "dense_3 (Dense)                 (None, 32)           2080        dense_2[0][0]                    \n",
      "__________________________________________________________________________________________________\n",
      "dense_4 (Dense)                 (None, 10)           330         dense_3[0][0]                    \n",
      "==================================================================================================\n",
      "Total params: 341,176\n",
      "Trainable params: 341,176\n",
      "Non-trainable params: 0\n",
      "__________________________________________________________________________________________________\n"
     ]
    }
   ],
   "source": [
    "model.summary()"
   ]
  },
  {
   "cell_type": "code",
   "execution_count": 18,
   "metadata": {
    "executionInfo": {
     "elapsed": 90484,
     "status": "ok",
     "timestamp": 1608050885145,
     "user": {
      "displayName": "Parth Dedhia",
      "photoUrl": "",
      "userId": "15098257602324158403"
     },
     "user_tz": -330
    },
    "id": "oSTK-Bemowwl"
   },
   "outputs": [],
   "source": [
    "model.compile(\n",
    "    optimizer='adam',\n",
    "    loss=tf.keras.losses.SparseCategoricalCrossentropy(from_logits=True),\n",
    "    metrics=['accuracy']\n",
    ")"
   ]
  },
  {
   "cell_type": "code",
   "execution_count": 19,
   "metadata": {
    "executionInfo": {
     "elapsed": 90482,
     "status": "ok",
     "timestamp": 1608050885146,
     "user": {
      "displayName": "Parth Dedhia",
      "photoUrl": "",
      "userId": "15098257602324158403"
     },
     "user_tz": -330
    },
    "id": "3EWsnlwYu4SM"
   },
   "outputs": [],
   "source": [
    "def schedular(epoch, lr):\n",
    "    if epoch % 20 == 0 and epoch > 0:\n",
    "        print(\"Learning Rate Updated\")\n",
    "        lr /= 10\n",
    "    return lr"
   ]
  },
  {
   "cell_type": "code",
   "execution_count": 20,
   "metadata": {
    "executionInfo": {
     "elapsed": 90890,
     "status": "ok",
     "timestamp": 1608050885557,
     "user": {
      "displayName": "Parth Dedhia",
      "photoUrl": "",
      "userId": "15098257602324158403"
     },
     "user_tz": -330
    },
    "id": "DPRiMpdtu7OR"
   },
   "outputs": [],
   "source": [
    "log_dir = \"logs/fit/\" + datetime.datetime.now().strftime(\"%Y%m%d-%H%M%S\")\n",
    "tensorboard_callback = tf.keras.callbacks.TensorBoard(log_dir=log_dir, histogram_freq=1)\n",
    "learning_rate_callback = tf.keras.callbacks.LearningRateScheduler(schedular)"
   ]
  },
  {
   "cell_type": "code",
   "execution_count": 21,
   "metadata": {
    "colab": {
     "base_uri": "https://localhost:8080/"
    },
    "executionInfo": {
     "elapsed": 1337418,
     "status": "ok",
     "timestamp": 1608052132088,
     "user": {
      "displayName": "Parth Dedhia",
      "photoUrl": "",
      "userId": "15098257602324158403"
     },
     "user_tz": -330
    },
    "id": "syvXizCWu_eV",
    "outputId": "379c553b-0271-45c1-dacc-ee0c71953f6f"
   },
   "outputs": [
    {
     "name": "stdout",
     "output_type": "stream",
     "text": [
      "Epoch 1/100\n",
      "  1/211 [..............................] - ETA: 0s - loss: 2.3026 - accuracy: 0.0664WARNING:tensorflow:From /usr/local/lib/python3.6/dist-packages/tensorflow/python/ops/summary_ops_v2.py:1277: stop (from tensorflow.python.eager.profiler) is deprecated and will be removed after 2020-07-01.\n",
      "Instructions for updating:\n",
      "use `tf.profiler.experimental.stop` instead.\n",
      "  2/211 [..............................] - ETA: 14s - loss: 2.3025 - accuracy: 0.0762WARNING:tensorflow:Callbacks method `on_train_batch_end` is slow compared to the batch time (batch time: 0.0460s vs `on_train_batch_end` time: 0.0928s). Check your callbacks.\n",
      "211/211 [==============================] - 10s 48ms/step - loss: 1.9467 - accuracy: 0.5087\n",
      "Epoch 2/100\n",
      "211/211 [==============================] - 12s 55ms/step - loss: 1.7803 - accuracy: 0.6784\n",
      "Epoch 3/100\n",
      "211/211 [==============================] - 12s 56ms/step - loss: 1.7685 - accuracy: 0.6893\n",
      "Epoch 4/100\n",
      "211/211 [==============================] - 12s 56ms/step - loss: 1.7062 - accuracy: 0.7525\n",
      "Epoch 5/100\n",
      "211/211 [==============================] - 12s 58ms/step - loss: 1.6737 - accuracy: 0.7841\n",
      "Epoch 6/100\n",
      "211/211 [==============================] - 12s 59ms/step - loss: 1.6701 - accuracy: 0.7871\n",
      "Epoch 7/100\n",
      "211/211 [==============================] - 12s 58ms/step - loss: 1.6660 - accuracy: 0.7903\n",
      "Epoch 8/100\n",
      "211/211 [==============================] - 12s 58ms/step - loss: 1.6651 - accuracy: 0.7908\n",
      "Epoch 9/100\n",
      "211/211 [==============================] - 12s 59ms/step - loss: 1.6629 - accuracy: 0.7924\n",
      "Epoch 10/100\n",
      "211/211 [==============================] - 12s 59ms/step - loss: 1.6495 - accuracy: 0.8062\n",
      "Epoch 11/100\n",
      "211/211 [==============================] - 11s 53ms/step - loss: 1.5728 - accuracy: 0.8868\n",
      "Epoch 12/100\n",
      "211/211 [==============================] - 11s 54ms/step - loss: 1.5695 - accuracy: 0.8894\n",
      "Epoch 13/100\n",
      "211/211 [==============================] - 12s 55ms/step - loss: 1.5685 - accuracy: 0.8900\n",
      "Epoch 14/100\n",
      "211/211 [==============================] - 12s 58ms/step - loss: 1.5679 - accuracy: 0.8905\n",
      "Epoch 15/100\n",
      "211/211 [==============================] - 12s 59ms/step - loss: 1.5677 - accuracy: 0.8906\n",
      "Epoch 16/100\n",
      "211/211 [==============================] - 12s 58ms/step - loss: 1.5679 - accuracy: 0.8902\n",
      "Epoch 17/100\n",
      "211/211 [==============================] - 12s 59ms/step - loss: 1.5662 - accuracy: 0.8921\n",
      "Epoch 18/100\n",
      "211/211 [==============================] - 12s 59ms/step - loss: 1.5662 - accuracy: 0.8914\n",
      "Epoch 19/100\n",
      "211/211 [==============================] - 12s 59ms/step - loss: 1.5131 - accuracy: 0.9473\n",
      "Epoch 20/100\n",
      "211/211 [==============================] - 10s 48ms/step - loss: 1.4792 - accuracy: 0.9824\n",
      "Learning Rate Updated\n",
      "Epoch 21/100\n",
      "211/211 [==============================] - 11s 53ms/step - loss: 1.4705 - accuracy: 0.9909\n",
      "Epoch 22/100\n",
      "211/211 [==============================] - 11s 54ms/step - loss: 1.4683 - accuracy: 0.9931\n",
      "Epoch 23/100\n",
      "211/211 [==============================] - 13s 60ms/step - loss: 1.4672 - accuracy: 0.9943\n",
      "Epoch 24/100\n",
      "211/211 [==============================] - 12s 58ms/step - loss: 1.4666 - accuracy: 0.9949\n",
      "Epoch 25/100\n",
      "211/211 [==============================] - 12s 59ms/step - loss: 1.4659 - accuracy: 0.9956\n",
      "Epoch 26/100\n",
      "211/211 [==============================] - 13s 59ms/step - loss: 1.4656 - accuracy: 0.9958\n",
      "Epoch 27/100\n",
      "211/211 [==============================] - 13s 60ms/step - loss: 1.4653 - accuracy: 0.9961\n",
      "Epoch 28/100\n",
      "211/211 [==============================] - 12s 59ms/step - loss: 1.4651 - accuracy: 0.9963\n",
      "Epoch 29/100\n",
      "211/211 [==============================] - 12s 59ms/step - loss: 1.4648 - accuracy: 0.9966\n",
      "Epoch 30/100\n",
      "211/211 [==============================] - 12s 59ms/step - loss: 1.4647 - accuracy: 0.9967\n",
      "Epoch 31/100\n",
      "211/211 [==============================] - 12s 59ms/step - loss: 1.4646 - accuracy: 0.9968\n",
      "Epoch 32/100\n",
      "211/211 [==============================] - 13s 60ms/step - loss: 1.4645 - accuracy: 0.9968\n",
      "Epoch 33/100\n",
      "211/211 [==============================] - 12s 58ms/step - loss: 1.4643 - accuracy: 0.9970\n",
      "Epoch 34/100\n",
      "211/211 [==============================] - 12s 59ms/step - loss: 1.4642 - accuracy: 0.9971\n",
      "Epoch 35/100\n",
      "211/211 [==============================] - 12s 58ms/step - loss: 1.4641 - accuracy: 0.9972\n",
      "Epoch 36/100\n",
      "211/211 [==============================] - 12s 59ms/step - loss: 1.4640 - accuracy: 0.9972\n",
      "Epoch 37/100\n",
      "211/211 [==============================] - 12s 59ms/step - loss: 1.4640 - accuracy: 0.9973\n",
      "Epoch 38/100\n",
      "211/211 [==============================] - 12s 59ms/step - loss: 1.4640 - accuracy: 0.9973\n",
      "Epoch 39/100\n",
      "211/211 [==============================] - 12s 58ms/step - loss: 1.4639 - accuracy: 0.9974\n",
      "Epoch 40/100\n",
      "211/211 [==============================] - 12s 58ms/step - loss: 1.4638 - accuracy: 0.9975\n",
      "Learning Rate Updated\n",
      "Epoch 41/100\n",
      "211/211 [==============================] - 12s 57ms/step - loss: 1.4637 - accuracy: 0.9975\n",
      "Epoch 42/100\n",
      "211/211 [==============================] - 12s 59ms/step - loss: 1.4637 - accuracy: 0.9975\n",
      "Epoch 43/100\n",
      "211/211 [==============================] - 12s 58ms/step - loss: 1.4637 - accuracy: 0.9975\n",
      "Epoch 44/100\n",
      "211/211 [==============================] - 12s 57ms/step - loss: 1.4637 - accuracy: 0.9975\n",
      "Epoch 45/100\n",
      "211/211 [==============================] - 12s 59ms/step - loss: 1.4636 - accuracy: 0.9975\n",
      "Epoch 46/100\n",
      "211/211 [==============================] - 12s 58ms/step - loss: 1.4636 - accuracy: 0.9975\n",
      "Epoch 47/100\n",
      "211/211 [==============================] - 12s 58ms/step - loss: 1.4636 - accuracy: 0.9976\n",
      "Epoch 48/100\n",
      "211/211 [==============================] - 12s 58ms/step - loss: 1.4636 - accuracy: 0.9976\n",
      "Epoch 49/100\n",
      "211/211 [==============================] - 12s 57ms/step - loss: 1.4636 - accuracy: 0.9976\n",
      "Epoch 50/100\n",
      "211/211 [==============================] - 12s 58ms/step - loss: 1.4636 - accuracy: 0.9976\n",
      "Epoch 51/100\n",
      "211/211 [==============================] - 12s 58ms/step - loss: 1.4636 - accuracy: 0.9976\n",
      "Epoch 52/100\n",
      "211/211 [==============================] - 12s 57ms/step - loss: 1.4636 - accuracy: 0.9976\n",
      "Epoch 53/100\n",
      "211/211 [==============================] - 12s 58ms/step - loss: 1.4636 - accuracy: 0.9976\n",
      "Epoch 54/100\n",
      "211/211 [==============================] - 12s 57ms/step - loss: 1.4636 - accuracy: 0.9976\n",
      "Epoch 55/100\n",
      "211/211 [==============================] - 12s 58ms/step - loss: 1.4636 - accuracy: 0.9976\n",
      "Epoch 56/100\n",
      "211/211 [==============================] - 12s 57ms/step - loss: 1.4636 - accuracy: 0.9976\n",
      "Epoch 57/100\n",
      "211/211 [==============================] - 12s 58ms/step - loss: 1.4636 - accuracy: 0.9976\n",
      "Epoch 58/100\n",
      "211/211 [==============================] - 12s 58ms/step - loss: 1.4635 - accuracy: 0.9976\n",
      "Epoch 59/100\n",
      "211/211 [==============================] - 12s 57ms/step - loss: 1.4635 - accuracy: 0.9976\n",
      "Epoch 60/100\n",
      "211/211 [==============================] - 12s 58ms/step - loss: 1.4635 - accuracy: 0.9976\n",
      "Learning Rate Updated\n",
      "Epoch 61/100\n",
      "211/211 [==============================] - 12s 58ms/step - loss: 1.4635 - accuracy: 0.9977\n",
      "Epoch 62/100\n",
      "211/211 [==============================] - 12s 58ms/step - loss: 1.4635 - accuracy: 0.9977\n",
      "Epoch 63/100\n",
      "211/211 [==============================] - 12s 58ms/step - loss: 1.4635 - accuracy: 0.9977\n",
      "Epoch 64/100\n",
      "211/211 [==============================] - 12s 58ms/step - loss: 1.4635 - accuracy: 0.9977\n",
      "Epoch 65/100\n",
      "211/211 [==============================] - 12s 57ms/step - loss: 1.4635 - accuracy: 0.9977\n",
      "Epoch 66/100\n",
      "211/211 [==============================] - 12s 57ms/step - loss: 1.4635 - accuracy: 0.9977\n",
      "Epoch 67/100\n",
      "211/211 [==============================] - 12s 58ms/step - loss: 1.4635 - accuracy: 0.9977\n",
      "Epoch 68/100\n",
      "211/211 [==============================] - 12s 57ms/step - loss: 1.4635 - accuracy: 0.9977\n",
      "Epoch 69/100\n",
      "211/211 [==============================] - 12s 57ms/step - loss: 1.4635 - accuracy: 0.9977\n",
      "Epoch 70/100\n",
      "211/211 [==============================] - 12s 58ms/step - loss: 1.4635 - accuracy: 0.9977\n",
      "Epoch 71/100\n",
      "211/211 [==============================] - 12s 57ms/step - loss: 1.4635 - accuracy: 0.9977\n",
      "Epoch 72/100\n",
      "211/211 [==============================] - 12s 58ms/step - loss: 1.4635 - accuracy: 0.9977\n",
      "Epoch 73/100\n",
      "211/211 [==============================] - 12s 59ms/step - loss: 1.4635 - accuracy: 0.9977\n",
      "Epoch 74/100\n",
      "211/211 [==============================] - 12s 57ms/step - loss: 1.4635 - accuracy: 0.9977\n",
      "Epoch 75/100\n",
      "211/211 [==============================] - 12s 57ms/step - loss: 1.4635 - accuracy: 0.9977\n",
      "Epoch 76/100\n",
      "211/211 [==============================] - 12s 57ms/step - loss: 1.4635 - accuracy: 0.9977\n",
      "Epoch 77/100\n",
      "211/211 [==============================] - 12s 57ms/step - loss: 1.4635 - accuracy: 0.9977\n",
      "Epoch 78/100\n",
      "211/211 [==============================] - 12s 57ms/step - loss: 1.4635 - accuracy: 0.9977\n",
      "Epoch 79/100\n",
      "211/211 [==============================] - 12s 58ms/step - loss: 1.4635 - accuracy: 0.9977\n",
      "Epoch 80/100\n",
      "211/211 [==============================] - 12s 58ms/step - loss: 1.4635 - accuracy: 0.9977\n",
      "Learning Rate Updated\n",
      "Epoch 81/100\n",
      "211/211 [==============================] - 12s 58ms/step - loss: 1.4635 - accuracy: 0.9977\n",
      "Epoch 82/100\n",
      "211/211 [==============================] - 12s 57ms/step - loss: 1.4635 - accuracy: 0.9977\n",
      "Epoch 83/100\n",
      "211/211 [==============================] - 12s 59ms/step - loss: 1.4635 - accuracy: 0.9977\n",
      "Epoch 84/100\n",
      "211/211 [==============================] - 12s 58ms/step - loss: 1.4635 - accuracy: 0.9977\n",
      "Epoch 85/100\n",
      "211/211 [==============================] - 12s 57ms/step - loss: 1.4635 - accuracy: 0.9977\n",
      "Epoch 86/100\n",
      "211/211 [==============================] - 12s 57ms/step - loss: 1.4635 - accuracy: 0.9977\n",
      "Epoch 87/100\n",
      "211/211 [==============================] - 12s 57ms/step - loss: 1.4635 - accuracy: 0.9977\n",
      "Epoch 88/100\n",
      "211/211 [==============================] - 12s 57ms/step - loss: 1.4635 - accuracy: 0.9977\n",
      "Epoch 89/100\n",
      "211/211 [==============================] - 12s 58ms/step - loss: 1.4635 - accuracy: 0.9977\n",
      "Epoch 90/100\n",
      "211/211 [==============================] - 12s 57ms/step - loss: 1.4635 - accuracy: 0.9977\n",
      "Epoch 91/100\n",
      "211/211 [==============================] - 12s 58ms/step - loss: 1.4635 - accuracy: 0.9977\n",
      "Epoch 92/100\n",
      "211/211 [==============================] - 12s 58ms/step - loss: 1.4635 - accuracy: 0.9977\n",
      "Epoch 93/100\n",
      "211/211 [==============================] - 12s 57ms/step - loss: 1.4635 - accuracy: 0.9977\n",
      "Epoch 94/100\n",
      "211/211 [==============================] - 12s 57ms/step - loss: 1.4635 - accuracy: 0.9977\n",
      "Epoch 95/100\n",
      "211/211 [==============================] - 12s 57ms/step - loss: 1.4635 - accuracy: 0.9977\n",
      "Epoch 96/100\n",
      "211/211 [==============================] - 12s 57ms/step - loss: 1.4635 - accuracy: 0.9977\n",
      "Epoch 97/100\n",
      "211/211 [==============================] - 12s 58ms/step - loss: 1.4635 - accuracy: 0.9977\n",
      "Epoch 98/100\n",
      "211/211 [==============================] - 12s 59ms/step - loss: 1.4635 - accuracy: 0.9977\n",
      "Epoch 99/100\n",
      "211/211 [==============================] - 12s 57ms/step - loss: 1.4635 - accuracy: 0.9977\n",
      "Epoch 100/100\n",
      "211/211 [==============================] - 12s 57ms/step - loss: 1.4635 - accuracy: 0.9977\n"
     ]
    }
   ],
   "source": [
    "history = model.fit(mnist_train_ds, epochs=epochs, callbacks=[tensorboard_callback, learning_rate_callback])"
   ]
  },
  {
   "cell_type": "code",
   "execution_count": 22,
   "metadata": {
    "executionInfo": {
     "elapsed": 1337979,
     "status": "ok",
     "timestamp": 1608052132655,
     "user": {
      "displayName": "Parth Dedhia",
      "photoUrl": "",
      "userId": "15098257602324158403"
     },
     "user_tz": -330
    },
    "id": "8wjXyZFSvDzN"
   },
   "outputs": [],
   "source": [
    "model.save_weights('./model/weights', save_format='tf')"
   ]
  },
  {
   "cell_type": "code",
   "execution_count": 23,
   "metadata": {
    "executionInfo": {
     "elapsed": 1337978,
     "status": "ok",
     "timestamp": 1608052132657,
     "user": {
      "displayName": "Parth Dedhia",
      "photoUrl": "",
      "userId": "15098257602324158403"
     },
     "user_tz": -330
    },
    "id": "YnN-qdPlv7yc"
   },
   "outputs": [],
   "source": [
    "stn = tf.keras.models.Model(inputs=model.inputs, outputs=[model.layers[1].output, model.layers[2].output])"
   ]
  },
  {
   "cell_type": "code",
   "execution_count": 24,
   "metadata": {
    "executionInfo": {
     "elapsed": 1339533,
     "status": "ok",
     "timestamp": 1608052134214,
     "user": {
      "displayName": "Parth Dedhia",
      "photoUrl": "",
      "userId": "15098257602324158403"
     },
     "user_tz": -330
    },
    "id": "_0lMBp2Ww7dY"
   },
   "outputs": [],
   "source": [
    "theta, prediction = stn.predict(X_test)"
   ]
  },
  {
   "cell_type": "code",
   "execution_count": 25,
   "metadata": {
    "colab": {
     "base_uri": "https://localhost:8080/",
     "height": 321
    },
    "executionInfo": {
     "elapsed": 1339537,
     "status": "ok",
     "timestamp": 1608052134223,
     "user": {
      "displayName": "Parth Dedhia",
      "photoUrl": "",
      "userId": "15098257602324158403"
     },
     "user_tz": -330
    },
    "id": "hu0RGlASxCNl",
    "outputId": "3d5df355-6def-4b4b-dbb2-672d072ca310"
   },
   "outputs": [
    {
     "name": "stderr",
     "output_type": "stream",
     "text": [
      "/usr/local/lib/python3.6/dist-packages/matplotlib/text.py:1165: FutureWarning: elementwise comparison failed; returning scalar instead, but in the future will perform elementwise comparison\n",
      "  if s != self._text:\n"
     ]
    },
    {
     "name": "stdout",
     "output_type": "stream",
     "text": [
      "\n",
      " [[ 0.879925    0.09167187  0.33949822]\n",
      " [-0.04518849  0.86799157  0.23965745]]\n"
     ]
    },
    {
     "data": {
      "image/png": "[encoded data removed]",
      "text/plain": [
       "<Figure size 432x288 with 2 Axes>"
      ]
     },
     "metadata": {
      "needs_background": "light",
      "tags": []
     },
     "output_type": "display_data"
    }
   ],
   "source": [
    "index = 203\n",
    "\n",
    "plt.subplot(1,2,1)\n",
    "plt.title(y_test[index])\n",
    "plt.imshow(X_test[index, :, :, 0], cmap='gray')\n",
    "\n",
    "plt.subplot(1, 2, 2)\n",
    "plt.title(np.argmax(model.predict(np.expand_dims(X_test[index, :, :, 0], axis=0))))\n",
    "plt.imshow(prediction[index, :, :, 0], cmap='gray')\n",
    "\n",
    "print(\"\\n\", theta[index])"
   ]
  },
  {
   "cell_type": "code",
   "execution_count": null,
   "metadata": {
    "id": "UdIH597yYwzK"
   },
   "outputs": [],
   "source": []
  }
 ],
 "metadata": {
  "accelerator": "GPU",
  "colab": {
   "authorship_tag": "ABX9TyOXjvWVzmffEUBkYlxlCwr9",
   "collapsed_sections": [],
   "mount_file_id": "116TvpzEPH99zC4L4uukpz1fK94uRSDQU",
   "name": "Spatial Transformer Network.ipynb",
   "provenance": []
  },
  "kernelspec": {
   "display_name": "Python 3",
   "language": "python",
   "name": "python3"
  },
  "language_info": {
   "codemirror_mode": {
    "name": "ipython",
    "version": 3
   },
   "file_extension": ".py",
   "mimetype": "text/x-python",
   "name": "python",
   "nbconvert_exporter": "python",
   "pygments_lexer": "ipython3",
   "version": "3.8.5"
  }
 },
 "nbformat": 4,
 "nbformat_minor": 4
}
